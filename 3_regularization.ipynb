{
 "cells": [
  {
   "cell_type": "markdown",
   "metadata": {
    "colab_type": "text",
    "id": "kR-4eNdK6lYS"
   },
   "source": [
    "Deep Learning\n",
    "=============\n",
    "\n",
    "Assignment 3\n",
    "------------\n",
    "\n",
    "Previously in `2_fullyconnected.ipynb`, you trained a logistic regression and a neural network model.\n",
    "\n",
    "The goal of this assignment is to explore regularization techniques."
   ]
  },
  {
   "cell_type": "code",
   "execution_count": 1,
   "metadata": {
    "cellView": "both",
    "colab": {
     "autoexec": {
      "startup": false,
      "wait_interval": 0
     }
    },
    "colab_type": "code",
    "id": "JLpLa8Jt7Vu4"
   },
   "outputs": [
    {
     "name": "stderr",
     "output_type": "stream",
     "text": [
      "/home/pablo/anaconda3/lib/python3.6/site-packages/h5py/__init__.py:36: FutureWarning: Conversion of the second argument of issubdtype from `float` to `np.floating` is deprecated. In future, it will be treated as `np.float64 == np.dtype(float).type`.\n",
      "  from ._conv import register_converters as _register_converters\n"
     ]
    }
   ],
   "source": [
    "# These are all the modules we'll be using later. Make sure you can import them\n",
    "# before proceeding further.\n",
    "from __future__ import print_function\n",
    "import numpy as np\n",
    "import tensorflow as tf\n",
    "from six.moves import cPickle as pickle"
   ]
  },
  {
   "cell_type": "markdown",
   "metadata": {
    "colab_type": "text",
    "id": "1HrCK6e17WzV"
   },
   "source": [
    "First reload the data we generated in `1_notmnist.ipynb`."
   ]
  },
  {
   "cell_type": "code",
   "execution_count": 2,
   "metadata": {
    "cellView": "both",
    "colab": {
     "autoexec": {
      "startup": false,
      "wait_interval": 0
     },
     "output_extras": [
      {
       "item_id": 1
      }
     ]
    },
    "colab_type": "code",
    "executionInfo": {
     "elapsed": 11777,
     "status": "ok",
     "timestamp": 1449849322348,
     "user": {
      "color": "",
      "displayName": "",
      "isAnonymous": false,
      "isMe": true,
      "permissionId": "",
      "photoUrl": "",
      "sessionId": "0",
      "userId": ""
     },
     "user_tz": 480
    },
    "id": "y3-cj1bpmuxc",
    "outputId": "e03576f1-ebbe-4838-c388-f1777bcc9873"
   },
   "outputs": [
    {
     "name": "stdout",
     "output_type": "stream",
     "text": [
      "Training set (200000, 28, 28) (200000,)\n",
      "Validation set (10000, 28, 28) (10000,)\n",
      "Test set (10000, 28, 28) (10000,)\n"
     ]
    }
   ],
   "source": [
    "pickle_file = 'notMNIST.pickle'\n",
    "\n",
    "with open(pickle_file, 'rb') as f:\n",
    "  save = pickle.load(f)\n",
    "  train_dataset = save['train_dataset']\n",
    "  train_labels = save['train_labels']\n",
    "  valid_dataset = save['valid_dataset']\n",
    "  valid_labels = save['valid_labels']\n",
    "  test_dataset = save['test_dataset']\n",
    "  test_labels = save['test_labels']\n",
    "  del save  # hint to help gc free up memory\n",
    "  print('Training set', train_dataset.shape, train_labels.shape)\n",
    "  print('Validation set', valid_dataset.shape, valid_labels.shape)\n",
    "  print('Test set', test_dataset.shape, test_labels.shape)"
   ]
  },
  {
   "cell_type": "markdown",
   "metadata": {
    "colab_type": "text",
    "id": "L7aHrm6nGDMB"
   },
   "source": [
    "Reformat into a shape that's more adapted to the models we're going to train:\n",
    "- data as a flat matrix,\n",
    "- labels as float 1-hot encodings."
   ]
  },
  {
   "cell_type": "code",
   "execution_count": 3,
   "metadata": {
    "cellView": "both",
    "colab": {
     "autoexec": {
      "startup": false,
      "wait_interval": 0
     },
     "output_extras": [
      {
       "item_id": 1
      }
     ]
    },
    "colab_type": "code",
    "executionInfo": {
     "elapsed": 11728,
     "status": "ok",
     "timestamp": 1449849322356,
     "user": {
      "color": "",
      "displayName": "",
      "isAnonymous": false,
      "isMe": true,
      "permissionId": "",
      "photoUrl": "",
      "sessionId": "0",
      "userId": ""
     },
     "user_tz": 480
    },
    "id": "IRSyYiIIGIzS",
    "outputId": "3f8996ee-3574-4f44-c953-5c8a04636582"
   },
   "outputs": [
    {
     "name": "stdout",
     "output_type": "stream",
     "text": [
      "Training set (200000, 784) (200000, 10)\n",
      "Validation set (10000, 784) (10000, 10)\n",
      "Test set (10000, 784) (10000, 10)\n"
     ]
    }
   ],
   "source": [
    "image_size = 28\n",
    "num_labels = 10\n",
    "\n",
    "def reformat(dataset, labels):\n",
    "  dataset = dataset.reshape((-1, image_size * image_size)).astype(np.float32)\n",
    "  # Map 1 to [0.0, 1.0, 0.0 ...], 2 to [0.0, 0.0, 1.0 ...]\n",
    "  labels = (np.arange(num_labels) == labels[:,None]).astype(np.float32)\n",
    "  return dataset, labels\n",
    "train_dataset, train_labels = reformat(train_dataset, train_labels)\n",
    "valid_dataset, valid_labels = reformat(valid_dataset, valid_labels)\n",
    "test_dataset, test_labels = reformat(test_dataset, test_labels)\n",
    "print('Training set', train_dataset.shape, train_labels.shape)\n",
    "print('Validation set', valid_dataset.shape, valid_labels.shape)\n",
    "print('Test set', test_dataset.shape, test_labels.shape)"
   ]
  },
  {
   "cell_type": "code",
   "execution_count": 4,
   "metadata": {
    "cellView": "both",
    "colab": {
     "autoexec": {
      "startup": false,
      "wait_interval": 0
     }
    },
    "colab_type": "code",
    "id": "RajPLaL_ZW6w"
   },
   "outputs": [],
   "source": [
    "def accuracy(predictions, labels):\n",
    "  return (100.0 * np.sum(np.argmax(predictions, 1) == np.argmax(labels, 1))\n",
    "          / predictions.shape[0])"
   ]
  },
  {
   "cell_type": "markdown",
   "metadata": {
    "colab_type": "text",
    "id": "sgLbUAQ1CW-1"
   },
   "source": [
    "---\n",
    "Problem 1\n",
    "---------\n",
    "\n",
    "Introduce and tune L2 regularization for both logistic and neural network models. Remember that L2 amounts to adding a penalty on the norm of the weights to the loss. In TensorFlow, you can compute the L2 loss for a tensor `t` using `nn.l2_loss(t)`. The right amount of regularization should improve your validation / test accuracy.\n",
    "\n",
    "---"
   ]
  },
  {
   "cell_type": "code",
   "execution_count": 5,
   "metadata": {},
   "outputs": [
    {
     "name": "stdout",
     "output_type": "stream",
     "text": [
      "WARNING:tensorflow:From <ipython-input-5-8478161fa1bc>:37: softmax_cross_entropy_with_logits (from tensorflow.python.ops.nn_ops) is deprecated and will be removed in a future version.\n",
      "Instructions for updating:\n",
      "\n",
      "Future major versions of TensorFlow will allow gradients to flow\n",
      "into the labels input on backprop by default.\n",
      "\n",
      "See @{tf.nn.softmax_cross_entropy_with_logits_v2}.\n",
      "\n"
     ]
    }
   ],
   "source": [
    "batch_size = 128\n",
    "beta = 0.01\n",
    "\n",
    "\n",
    "graph = tf.Graph()\n",
    "with graph.as_default():\n",
    "    # Input data. For the training data, we use a placeholder that will be fed\n",
    "    # at run time with a training minibatch.\n",
    "    tf_train_dataset = tf.placeholder(tf.float32,\n",
    "                                      shape=(batch_size, image_size * image_size))\n",
    "    tf_train_labels = tf.placeholder(tf.float32, shape=(batch_size, num_labels))\n",
    "    tf_valid_dataset = tf.constant(valid_dataset)\n",
    "    tf_test_dataset = tf.constant(test_dataset)\n",
    "\n",
    "    \n",
    "    hidden_layer_size = 1024\n",
    "\n",
    "    hidden_weights = tf.Variable(tf.truncated_normal([image_size * image_size, hidden_layer_size]))\n",
    "    hidden_biases = tf.Variable(tf.zeros([hidden_layer_size]))\n",
    "    output_weights = tf.Variable(tf.truncated_normal([hidden_layer_size, num_labels]))\n",
    "    output_bias = tf.Variable(tf.zeros([num_labels]))\n",
    "\n",
    "\n",
    "    def myNetwork(input_data):\n",
    "        # Hidden layer\n",
    "        activations_hidden = tf.matmul(input_data, hidden_weights) + hidden_biases\n",
    "        hidden_y = tf.nn.relu(activations_hidden)\n",
    "\n",
    "        # Output layer\n",
    "        output_activations = tf.matmul(hidden_y, output_weights) + output_bias\n",
    "        output = tf.nn.softmax(output_activations)\n",
    "       \n",
    "        return output\n",
    "\n",
    "    # Training computation.\n",
    "    output_prediction = myNetwork(tf_train_dataset)\n",
    "    loss = tf.nn.softmax_cross_entropy_with_logits(labels=tf_train_labels, logits=output_prediction)\n",
    "    regularizer = tf.nn.l2_loss (hidden_weights) + tf.nn.l2_loss (output_weights)\n",
    "    loss = tf.reduce_mean(loss + beta * regularizer)\n",
    "    \n",
    "    # Optimizer.\n",
    "    optimizer = tf.train.GradientDescentOptimizer(0.5).minimize(loss)\n",
    "\n",
    "    # Predictions for the training, validation, and test data.\n",
    "\n",
    "    valid_prediction = myNetwork(tf_valid_dataset)\n",
    "    test_prediction = myNetwork(tf_test_dataset)"
   ]
  },
  {
   "cell_type": "code",
   "execution_count": 6,
   "metadata": {},
   "outputs": [
    {
     "name": "stdout",
     "output_type": "stream",
     "text": [
      "Initialized\n",
      "Minibatch loss at step 0: 3152.890137\n",
      "Minibatch accuracy: 13.3%\n",
      "Validation accuracy: 16.0%\n",
      "Minibatch loss at step 500: 22.753445\n",
      "Minibatch accuracy: 76.6%\n",
      "Validation accuracy: 74.5%\n",
      "Minibatch loss at step 1000: 1.986778\n",
      "Minibatch accuracy: 77.3%\n",
      "Validation accuracy: 74.0%\n",
      "Minibatch loss at step 1500: 1.842022\n",
      "Minibatch accuracy: 75.8%\n",
      "Validation accuracy: 74.2%\n",
      "Minibatch loss at step 2000: 1.898226\n",
      "Minibatch accuracy: 71.1%\n",
      "Validation accuracy: 74.0%\n",
      "Minibatch loss at step 2500: 1.850006\n",
      "Minibatch accuracy: 72.7%\n",
      "Validation accuracy: 74.3%\n",
      "Minibatch loss at step 3000: 1.929944\n",
      "Minibatch accuracy: 69.5%\n",
      "Validation accuracy: 73.9%\n",
      "Test accuracy: 79.6%\n"
     ]
    }
   ],
   "source": [
    "num_steps = 3001\n",
    "\n",
    "with tf.Session(graph=graph) as session:\n",
    "    tf.global_variables_initializer().run()\n",
    "    print(\"Initialized\")\n",
    "    for step in range(num_steps):\n",
    "        # Pick an offset within the training data, which has been randomized.\n",
    "        # Note: we could use better randomization across epochs.\n",
    "        offset = (step * batch_size) % (train_labels.shape[0] - batch_size)\n",
    "        # Generate a minibatch.\n",
    "        batch_data = train_dataset[offset:(offset + batch_size), :]\n",
    "        batch_labels = train_labels[offset:(offset + batch_size), :]\n",
    "        \n",
    "        # Prepare a dictionary telling the session where to feed the minibatch.\n",
    "        # The key of the dictionary is the placeholder node of the graph to be fed,\n",
    "        # and the value is the numpy array to feed to it.\n",
    "        feed_dict = {tf_train_dataset: batch_data, tf_train_labels: batch_labels}\n",
    "        _, l, predictions = session.run([optimizer, loss, output_prediction], feed_dict=feed_dict)\n",
    "        \n",
    "        if (step % 500 == 0):\n",
    "            print(\"Minibatch loss at step %d: %f\" % (step, l))\n",
    "            print(\"Minibatch accuracy: %.1f%%\" % accuracy(predictions, batch_labels))\n",
    "            print(\"Validation accuracy: %.1f%%\" % accuracy(valid_prediction.eval(), valid_labels))\n",
    "    print(\"Test accuracy: %.1f%%\" % accuracy(test_prediction.eval(), test_labels))"
   ]
  },
  {
   "cell_type": "markdown",
   "metadata": {
    "colab_type": "text",
    "id": "na8xX2yHZzNF"
   },
   "source": [
    "---\n",
    "Problem 2\n",
    "---------\n",
    "Let's demonstrate an extreme case of overfitting. Restrict your training data to just a few batches. What happens?\n",
    "\n",
    "---"
   ]
  },
  {
   "cell_type": "code",
   "execution_count": 7,
   "metadata": {},
   "outputs": [
    {
     "name": "stdout",
     "output_type": "stream",
     "text": [
      "Initialized\n",
      "Minibatch loss at step 0: 3145.215820\n",
      "Minibatch accuracy: 7.8%\n",
      "Validation accuracy: 10.6%\n",
      "Minibatch loss at step 500: 22.488228\n",
      "Minibatch accuracy: 93.0%\n",
      "Validation accuracy: 63.0%\n",
      "Minibatch loss at step 1000: 1.791135\n",
      "Minibatch accuracy: 100.0%\n",
      "Validation accuracy: 71.6%\n",
      "Minibatch loss at step 1500: 1.644892\n",
      "Minibatch accuracy: 100.0%\n",
      "Validation accuracy: 71.5%\n",
      "Minibatch loss at step 2000: 1.639773\n",
      "Minibatch accuracy: 100.0%\n",
      "Validation accuracy: 71.4%\n",
      "Minibatch loss at step 2500: 1.637345\n",
      "Minibatch accuracy: 100.0%\n",
      "Validation accuracy: 71.2%\n",
      "Minibatch loss at step 3000: 1.635680\n",
      "Minibatch accuracy: 100.0%\n",
      "Validation accuracy: 71.3%\n",
      "Test accuracy: 77.7%\n"
     ]
    }
   ],
   "source": [
    "num_steps = 3001\n",
    "\n",
    "with tf.Session(graph=graph) as session:\n",
    "    tf.global_variables_initializer().run()\n",
    "    print(\"Initialized\")\n",
    "    for step in range(num_steps):\n",
    "        # Pick an offset within the training data, which has been randomized.\n",
    "        # Note: we could use better randomization across epochs.\n",
    "        offset = (step * batch_size) % 2\n",
    "        # Generate a minibatch.\n",
    "        batch_data = train_dataset[offset:(offset + batch_size), :]\n",
    "        batch_labels = train_labels[offset:(offset + batch_size), :]\n",
    "        \n",
    "        # Prepare a dictionary telling the session where to feed the minibatch.\n",
    "        # The key of the dictionary is the placeholder node of the graph to be fed,\n",
    "        # and the value is the numpy array to feed to it.\n",
    "        feed_dict = {tf_train_dataset: batch_data, tf_train_labels: batch_labels}\n",
    "        _, l, predictions = session.run([optimizer, loss, output_prediction], feed_dict=feed_dict)\n",
    "        \n",
    "        if (step % 500 == 0):\n",
    "            print(\"Minibatch loss at step %d: %f\" % (step, l))\n",
    "            print(\"Minibatch accuracy: %.1f%%\" % accuracy(predictions, batch_labels))\n",
    "            print(\"Validation accuracy: %.1f%%\" % accuracy(valid_prediction.eval(), valid_labels))\n",
    "    print(\"Test accuracy: %.1f%%\" % accuracy(test_prediction.eval(), test_labels))"
   ]
  },
  {
   "cell_type": "markdown",
   "metadata": {
    "colab_type": "text",
    "id": "ww3SCBUdlkRc"
   },
   "source": [
    "---\n",
    "Problem 3\n",
    "---------\n",
    "Introduce Dropout on the hidden layer of the neural network. Remember: Dropout should only be introduced during training, not evaluation, otherwise your evaluation results would be stochastic as well. TensorFlow provides `nn.dropout()` for that, but you have to make sure it's only inserted during training.\n",
    "\n",
    "What happens to our extreme overfitting case?\n",
    "\n",
    "---"
   ]
  },
  {
   "cell_type": "code",
   "execution_count": 49,
   "metadata": {},
   "outputs": [],
   "source": [
    "batch_size = 128\n",
    "beta = 0.01\n",
    "\n",
    "\n",
    "graph = tf.Graph()\n",
    "with graph.as_default():\n",
    "    # Input data. For the training data, we use a placeholder that will be fed\n",
    "    # at run time with a training minibatch.\n",
    "    tf_train_dataset = tf.placeholder(tf.float32,\n",
    "                                      shape=(batch_size, image_size * image_size))\n",
    "    tf_train_labels = tf.placeholder(tf.float32, shape=(batch_size, num_labels))\n",
    "    tf_valid_dataset = tf.constant(valid_dataset)\n",
    "    tf_test_dataset = tf.constant(test_dataset)\n",
    "\n",
    "    \n",
    "    hidden_layer_size = 1024\n",
    "\n",
    "    hidden_weights = tf.Variable(tf.truncated_normal([image_size * image_size, hidden_layer_size]))\n",
    "    hidden_biases = tf.Variable(tf.zeros([hidden_layer_size]))\n",
    "    output_weights = tf.Variable(tf.truncated_normal([hidden_layer_size, num_labels]))\n",
    "    output_bias = tf.Variable(tf.zeros([num_labels]))\n",
    "\n",
    "    rate = tf.placeholder(\"float\")\n",
    "\n",
    "    def myNetwork(input_data):\n",
    "        # Hidden layer\n",
    "        activations_hidden = tf.matmul(input_data, hidden_weights) + hidden_biases\n",
    "        hidden_y = tf.nn.relu(activations_hidden)\n",
    "\n",
    "        # Output layer\n",
    "        output_activations = tf.matmul(hidden_y, output_weights) + output_bias\n",
    "        output = tf.nn.softmax(output_activations)\n",
    "       \n",
    "        return output\n",
    "    \n",
    "    def myNetwork_t(input_data):\n",
    "        # Hidden layer\n",
    "        activations_hidden = tf.matmul(input_data, hidden_weights) + hidden_biases\n",
    "        hidden_y = tf.nn.relu(activations_hidden)\n",
    "        hidden_y = tf.nn.dropout(hidden_y, rate)\n",
    "        \n",
    "        # Output layer\n",
    "        output_activations = tf.matmul(hidden_y, output_weights) + output_bias\n",
    "        output = tf.nn.softmax(output_activations)\n",
    "        \n",
    "        return output\n",
    "    \n",
    "    # Training computation.\n",
    "    output_prediction = myNetwork_t(tf_train_dataset)\n",
    "    loss = tf.nn.softmax_cross_entropy_with_logits(labels=tf_train_labels, logits=output_prediction)\n",
    "    regularizer = tf.nn.l2_loss (hidden_weights) + tf.nn.l2_loss (output_weights)\n",
    "    loss = tf.reduce_mean(loss + beta * regularizer)\n",
    "    \n",
    "    # Optimizer.\n",
    "    optimizer = tf.train.GradientDescentOptimizer(0.5).minimize(loss)\n",
    "\n",
    "    # Predictions for the training, validation, and test data.\n",
    "\n",
    "    valid_prediction = myNetwork(tf_valid_dataset)\n",
    "    test_prediction = myNetwork(tf_test_dataset)"
   ]
  },
  {
   "cell_type": "code",
   "execution_count": 50,
   "metadata": {},
   "outputs": [
    {
     "name": "stdout",
     "output_type": "stream",
     "text": [
      "Initialized\n",
      "Minibatch loss at step 0: 3146.071533\n",
      "Minibatch accuracy: 11.7%\n",
      "Validation accuracy: 14.5%\n",
      "Minibatch loss at step 500: 22.462399\n",
      "Minibatch accuracy: 94.5%\n",
      "Validation accuracy: 70.0%\n",
      "Minibatch loss at step 1000: 1.805417\n",
      "Minibatch accuracy: 97.7%\n",
      "Validation accuracy: 71.0%\n",
      "Minibatch loss at step 1500: 1.662773\n",
      "Minibatch accuracy: 97.7%\n",
      "Validation accuracy: 71.2%\n",
      "Minibatch loss at step 2000: 1.655289\n",
      "Minibatch accuracy: 97.7%\n",
      "Validation accuracy: 71.2%\n",
      "Minibatch loss at step 2500: 1.656005\n",
      "Minibatch accuracy: 97.7%\n",
      "Validation accuracy: 71.2%\n",
      "Minibatch loss at step 3000: 1.648754\n",
      "Minibatch accuracy: 98.4%\n",
      "Validation accuracy: 71.1%\n",
      "Test accuracy: 77.5%\n"
     ]
    }
   ],
   "source": [
    "num_steps = 3001\n",
    "\n",
    "with tf.Session(graph=graph) as session:\n",
    "    tf.global_variables_initializer().run()\n",
    "    print(\"Initialized\")\n",
    "    for step in range(num_steps):\n",
    "        # Pick an offset within the training data, which has been randomized.\n",
    "        # Note: we could use better randomization across epochs.\n",
    "        offset = (step * batch_size) % 2\n",
    "        # Generate a minibatch.\n",
    "        batch_data = train_dataset[offset:(offset + batch_size), :]\n",
    "        batch_labels = train_labels[offset:(offset + batch_size), :]\n",
    "        \n",
    "        # Prepare a dictionary telling the session where to feed the minibatch.\n",
    "        # The key of the dictionary is the placeholder node of the graph to be fed,\n",
    "        # and the value is the numpy array to feed to it.\n",
    "        feed_dict = {tf_train_dataset: batch_data, tf_train_labels: batch_labels, rate : 0.5}\n",
    "        _, l, predictions = session.run([optimizer, loss, output_prediction], feed_dict=feed_dict)\n",
    "        \n",
    "        if (step % 500 == 0):\n",
    "            print(\"Minibatch loss at step %d: %f\" % (step, l))\n",
    "            print(\"Minibatch accuracy: %.1f%%\" % accuracy(predictions, batch_labels))\n",
    "            print(\"Validation accuracy: %.1f%%\" % accuracy(valid_prediction.eval(), valid_labels))\n",
    "    print(\"Test accuracy: %.1f%%\" % accuracy(test_prediction.eval(), test_labels))"
   ]
  },
  {
   "cell_type": "markdown",
   "metadata": {
    "colab_type": "text",
    "id": "-b1hTz3VWZjw"
   },
   "source": [
    "---\n",
    "Problem 4\n",
    "---------\n",
    "\n",
    "Try to get the best performance you can using a multi-layer model! The best reported test accuracy using a deep network is [97.1%](http://yaroslavvb.blogspot.com/2011/09/notmnist-dataset.html?showComment=1391023266211#c8758720086795711595).\n",
    "\n",
    "One avenue you can explore is to add multiple layers.\n",
    "\n",
    "Another one is to use learning rate decay:\n",
    "\n",
    "    global_step = tf.Variable(0)  # count the number of steps taken.\n",
    "    learning_rate = tf.train.exponential_decay(0.5, global_step, ...)\n",
    "    optimizer = tf.train.GradientDescentOptimizer(learning_rate).minimize(loss, global_step=global_step)\n",
    " \n",
    " ---\n"
   ]
  },
  {
   "cell_type": "code",
   "execution_count": 56,
   "metadata": {},
   "outputs": [],
   "source": [
    "batch_size = 128\n",
    "beta = 0.005\n",
    "\n",
    "hidden_size_1 = 1024\n",
    "hidden_size_2 = int(hidden_size_1/2)\n",
    "hidden_size_3 = int(hidden_size_2/2)\n",
    "hidden_size_4 = int(hidden_size_3/2)\n",
    "\n",
    "graph = tf.Graph()\n",
    "with graph.as_default():\n",
    "    # Input data. For the training data, we use a placeholder that will be fed\n",
    "    # at run time with a training minibatch.\n",
    "\n",
    "    tf_train_dataset = tf.placeholder(tf.float32, shape=(batch_size, image_size * image_size))\n",
    "    tf_train_labels = tf.placeholder(tf.float32, shape=(batch_size, num_labels))\n",
    "    rate = tf.placeholder(\"float\")\n",
    "    \n",
    "    tf_valid_dataset = tf.constant(valid_dataset)\n",
    "    tf_test_dataset = tf.constant(test_dataset)\n",
    "\n",
    "    hidden_weights_1 = tf.Variable(tf.truncated_normal([image_size * image_size, hidden_size_1]))\n",
    "    hidden_biases_1 = tf.Variable(tf.zeros([hidden_size_1]))\n",
    "\n",
    "    hidden_weights_2 = tf.Variable(tf.truncated_normal([hidden_size_1,hidden_size_2]))\n",
    "    hidden_biases_2 = tf.Variable(tf.zeros([hidden_size_2]))\n",
    "\n",
    "    hidden_weights_3 = tf.Variable(tf.truncated_normal([hidden_size_2,hidden_size_3]))\n",
    "    hidden_biases_3 = tf.Variable(tf.zeros([hidden_size_3]))\n",
    "    \n",
    "    hidden_weights_4 = tf.Variable(tf.truncated_normal([hidden_size_3,hidden_size_4]))\n",
    "    hidden_biases_4 = tf.Variable(tf.zeros([hidden_size_4]))\n",
    "    \n",
    "    output_weights = tf.Variable(tf.truncated_normal([hidden_size_4, num_labels]))\n",
    "    output_bias = tf.Variable(tf.zeros([num_labels]))\n",
    "\n",
    "    \n",
    "    def myNetwork_t(input_data):\n",
    "        # Hidden layer1\n",
    "        activations_hidden_1 = tf.matmul(input_data, hidden_weights_1) + hidden_biases_1\n",
    "        hidden_1 = tf.nn.relu(activations_hidden_1)\n",
    "        hidden_1 = tf.nn.dropout(hidden_1, rate)\n",
    "\n",
    "        # Hidden layer2\n",
    "        activations_hidden_2 = tf.matmul(hidden_1, hidden_weights_2) + hidden_biases_2\n",
    "        hidden_2 = tf.nn.relu(activations_hidden_2)\n",
    "        hidden_2 = tf.nn.dropout(hidden_2, rate)\n",
    "\n",
    "        # Hidden layer3\n",
    "        activations_hidden_3 = tf.matmul(hidden_2, hidden_weights_3) + hidden_biases_3\n",
    "        hidden_3 = tf.nn.relu(activations_hidden_3)\n",
    "        hidden_3 = tf.nn.dropout(hidden_3, rate)\n",
    "\n",
    "        # Hidden layer4\n",
    "        activations_hidden_4 = tf.matmul(hidden_3, hidden_weights_4) + hidden_biases_4\n",
    "        hidden_4 = tf.nn.relu(activations_hidden_4)\n",
    "        hidden_4 = tf.nn.dropout(hidden_4, rate)\n",
    "        \n",
    "        # Output layer\n",
    "        output_activations = tf.matmul(hidden_4, output_weights) + output_bias\n",
    "        output = tf.nn.softmax(output_activations)\n",
    "        \n",
    "        return output\n",
    "    \n",
    "    \n",
    "    \n",
    "    def myNetwork(input_data):\n",
    "        # Hidden layer1\n",
    "        activations_hidden_1 = tf.matmul(input_data, hidden_weights_1) + hidden_biases_1\n",
    "        hidden_1 = tf.nn.relu(activations_hidden_1)\n",
    "\n",
    "        # Hidden layer2\n",
    "        activations_hidden_2 = tf.matmul(hidden_1, hidden_weights_2) + hidden_biases_2\n",
    "        hidden_2 = tf.nn.relu(activations_hidden_2)\n",
    "\n",
    "        # Hidden layer3\n",
    "        activations_hidden_3 = tf.matmul(hidden_2, hidden_weights_3) + hidden_biases_3\n",
    "        hidden_3 = tf.nn.relu(activations_hidden_3)\n",
    "\n",
    "        # Hidden layer4\n",
    "        activations_hidden_4 = tf.matmul(hidden_3, hidden_weights_4) + hidden_biases_4\n",
    "        hidden_4 = tf.nn.relu(activations_hidden_4)\n",
    "        \n",
    "        # Output layer\n",
    "        output_activations = tf.matmul(hidden_4, output_weights) + output_bias\n",
    "        output = tf.nn.softmax(output_activations)\n",
    "        \n",
    "        return output\n",
    "    \n",
    "    # Training computation.\n",
    "    output_prediction = myNetwork_t(tf_train_dataset)\n",
    "    loss = tf.nn.softmax_cross_entropy_with_logits(labels=tf_train_labels, logits=output_prediction)\n",
    "    regularizer = tf.nn.l2_loss (hidden_weights_1) + tf.nn.l2_loss (hidden_weights_2) + tf.nn.l2_loss (hidden_weights_3) + tf.nn.l2_loss (hidden_weights_4) + tf.nn.l2_loss (output_weights)\n",
    "    loss = tf.reduce_mean(loss + beta * regularizer)\n",
    "\n",
    "    # Optimizer\n",
    "    # optimizer = tf.train.GradientDescentOptimizer(0.5).minimize(loss)\n",
    "\n",
    "    \n",
    "    # Optimizer.\n",
    "    global_step = tf.Variable(0)  # count the number of steps taken.\n",
    "    start_learning_rate = 0.5\n",
    "    learning_rate = tf.train.exponential_decay(start_learning_rate, global_step, 100000, 0.96, staircase=True)\n",
    "    optimizer = tf.train.GradientDescentOptimizer(learning_rate).minimize(loss, global_step=global_step)\n",
    "    \n",
    "    \n",
    "    # Predictions for the training, validation, and test data.\n",
    "\n",
    "    valid_prediction = myNetwork(tf_valid_dataset)\n",
    "    test_prediction = myNetwork(tf_test_dataset)\n",
    "    \n"
   ]
  },
  {
   "cell_type": "code",
   "execution_count": 59,
   "metadata": {},
   "outputs": [
    {
     "name": "stdout",
     "output_type": "stream",
     "text": [
      "Initialized\n",
      "Minibatch loss at step 0: 2889.661377\n",
      "Minibatch accuracy: 7.8%\n",
      "Validation accuracy: 11.9%\n",
      "Minibatch loss at step 500: 242.493179\n",
      "Minibatch accuracy: 11.7%\n",
      "Validation accuracy: 10.0%\n",
      "Minibatch loss at step 1000: 22.018501\n",
      "Minibatch accuracy: 9.4%\n",
      "Validation accuracy: 10.0%\n",
      "Minibatch loss at step 1500: 3.491953\n",
      "Minibatch accuracy: 71.1%\n",
      "Validation accuracy: 72.6%\n",
      "Minibatch loss at step 2000: 2.017633\n",
      "Minibatch accuracy: 74.2%\n",
      "Validation accuracy: 81.2%\n",
      "Minibatch loss at step 2500: 1.837902\n",
      "Minibatch accuracy: 82.0%\n",
      "Validation accuracy: 81.9%\n",
      "Minibatch loss at step 3000: 1.884557\n",
      "Minibatch accuracy: 74.2%\n",
      "Validation accuracy: 82.1%\n",
      "Minibatch loss at step 3500: 1.893664\n",
      "Minibatch accuracy: 71.9%\n",
      "Validation accuracy: 81.9%\n",
      "Minibatch loss at step 4000: 1.816578\n",
      "Minibatch accuracy: 81.2%\n",
      "Validation accuracy: 82.1%\n",
      "Minibatch loss at step 4500: 1.825344\n",
      "Minibatch accuracy: 80.5%\n",
      "Validation accuracy: 82.6%\n",
      "Minibatch loss at step 5000: 1.774624\n",
      "Minibatch accuracy: 86.7%\n",
      "Validation accuracy: 82.6%\n",
      "Minibatch loss at step 5500: 1.821345\n",
      "Minibatch accuracy: 81.2%\n",
      "Validation accuracy: 82.5%\n",
      "Minibatch loss at step 6000: 1.859629\n",
      "Minibatch accuracy: 76.6%\n",
      "Validation accuracy: 82.9%\n",
      "Minibatch loss at step 6500: 1.837618\n",
      "Minibatch accuracy: 76.6%\n",
      "Validation accuracy: 83.1%\n",
      "Minibatch loss at step 7000: 1.763956\n",
      "Minibatch accuracy: 86.7%\n",
      "Validation accuracy: 83.0%\n",
      "Minibatch loss at step 7500: 1.845653\n",
      "Minibatch accuracy: 76.6%\n",
      "Validation accuracy: 83.0%\n",
      "Minibatch loss at step 8000: 1.818366\n",
      "Minibatch accuracy: 81.2%\n",
      "Validation accuracy: 82.8%\n",
      "Minibatch loss at step 8500: 1.813241\n",
      "Minibatch accuracy: 80.5%\n",
      "Validation accuracy: 82.9%\n",
      "Minibatch loss at step 9000: 1.778425\n",
      "Minibatch accuracy: 85.9%\n",
      "Validation accuracy: 83.1%\n",
      "Test accuracy: 89.2%\n"
     ]
    }
   ],
   "source": [
    "num_steps = 9001\n",
    "\n",
    "with tf.Session(graph=graph) as session:\n",
    "    tf.global_variables_initializer().run()\n",
    "    print(\"Initialized\")\n",
    "    for step in range(num_steps):\n",
    "        # Pick an offset within the training data, which has been randomized.\n",
    "        # Note: we could use better randomization across epochs.\n",
    "        offset = (step * batch_size) % (train_labels.shape[0] - batch_size)\n",
    "        # Generate a minibatch.\n",
    "        batch_data = train_dataset[offset:(offset + batch_size), :]\n",
    "        batch_labels = train_labels[offset:(offset + batch_size), :]\n",
    "        \n",
    "        # Prepare a dictionary telling the session where to feed the minibatch.\n",
    "        # The key of the dictionary is the placeholder node of the graph to be fed,\n",
    "        # and the value is the numpy array to feed to it.\n",
    "        feed_dict = {tf_train_dataset: batch_data, tf_train_labels: batch_labels, rate : 0.5}\n",
    "        _, l, predictions = session.run([optimizer, loss, output_prediction], feed_dict=feed_dict)\n",
    "        \n",
    "        if (step % 500 == 0):\n",
    "            print(\"Minibatch loss at step %d: %f\" % (step, l))\n",
    "            print(\"Minibatch accuracy: %.1f%%\" % accuracy(predictions, batch_labels))\n",
    "            print(\"Validation accuracy: %.1f%%\" % accuracy(valid_prediction.eval(), valid_labels))\n",
    "    print(\"Test accuracy: %.1f%%\" % accuracy(test_prediction.eval(), test_labels))"
   ]
  }
 ],
 "metadata": {
  "colab": {
   "default_view": {},
   "name": "3_regularization.ipynb",
   "provenance": [],
   "version": "0.3.2",
   "views": {}
  },
  "kernelspec": {
   "display_name": "Python 3",
   "language": "python",
   "name": "python3"
  },
  "language_info": {
   "codemirror_mode": {
    "name": "ipython",
    "version": 3
   },
   "file_extension": ".py",
   "mimetype": "text/x-python",
   "name": "python",
   "nbconvert_exporter": "python",
   "pygments_lexer": "ipython3",
   "version": "3.6.5"
  }
 },
 "nbformat": 4,
 "nbformat_minor": 1
}
